{
 "cells": [
  {
   "cell_type": "code",
   "execution_count": 1,
   "metadata": {},
   "outputs": [],
   "source": [
    "from sympy import *\n",
    "x, y, z, t = symbols('x y z t')"
   ]
  },
  {
   "cell_type": "markdown",
   "metadata": {},
   "source": [
    "## Mechanics"
   ]
  },
  {
   "cell_type": "markdown",
   "metadata": {},
   "source": [
    "The module called [`sympy.physics.mechanics`](http://pyvideo.org/video/2653/dynamics-and-control-with-python) \n",
    "contains elaborate tools for describing mechanical systems,\n",
    "manipulating reference frames, forces, and torques.\n",
    "These specialized functions are not necessary for a first-year mechanics course.\n",
    "The basic `SymPy` functions like `solve`,\n",
    "and the vector operations you learned in the previous sections are powerful enough for basic Newtonian mechanics."
   ]
  },
  {
   "cell_type": "markdown",
   "metadata": {},
   "source": [
    "### Dynamics"
   ]
  },
  {
   "cell_type": "markdown",
   "metadata": {},
   "source": [
    "The net force acting on an object is the sum of all the external forces acting on it $\\vec{F}_{\\textrm{net}} = \\sum \\vec{F}$.\n",
    "Since forces are vectors, \n",
    "we need to use vector addition to compute the net force.\n",
    "\n",
    "Compute\n",
    "$\\vec{F}_{\\textrm{net}}=\\vec{F}_1 + \\vec{F}_2$,\n",
    "where $\\vec{F}_1=4\\hat{\\imath}[\\mathrm{N}]$ and $\\vec{F}_2 = 5\\angle 30^\\circ[\\mathrm{N}]$:"
   ]
  },
  {
   "cell_type": "code",
   "execution_count": 2,
   "metadata": {
    "collapsed": false,
    "jupyter": {
     "outputs_hidden": false
    }
   },
   "outputs": [
    {
     "data": {
      "text/latex": [
       "$\\displaystyle \\left[\\begin{matrix}4 + \\frac{5 \\sqrt{3}}{2}\\\\\\frac{5}{2}\\end{matrix}\\right]$"
      ],
      "text/plain": [
       "Matrix([\n",
       "[4 + 5*sqrt(3)/2],\n",
       "[            5/2]])"
      ]
     },
     "execution_count": 2,
     "metadata": {},
     "output_type": "execute_result"
    }
   ],
   "source": [
    "F_1 =  Matrix( [4,0] ) \n",
    "F_2 =  Matrix( [5*cos(30*pi/180), 5*sin(30*pi/180) ] )\n",
    "F_net = F_1 + F_2\n",
    "F_net                                    # in Newtons"
   ]
  },
  {
   "cell_type": "code",
   "execution_count": 3,
   "metadata": {
    "collapsed": false,
    "jupyter": {
     "outputs_hidden": false
    }
   },
   "outputs": [
    {
     "data": {
      "text/latex": [
       "$\\displaystyle \\left[\\begin{matrix}8.33012701892219\\\\2.5\\end{matrix}\\right]$"
      ],
      "text/plain": [
       "Matrix([\n",
       "[8.33012701892219],\n",
       "[             2.5]])"
      ]
     },
     "execution_count": 3,
     "metadata": {},
     "output_type": "execute_result"
    }
   ],
   "source": [
    "F_net.evalf()                            # in Newtons"
   ]
  },
  {
   "cell_type": "markdown",
   "metadata": {},
   "source": [
    "To express the answer in length-and-direction notation,\n",
    "use `norm` to find the length of $\\vec{F}_{\\textrm{net}}$\n",
    "and `atan2` (The function `atan2(y,x)` computes the correct direction \n",
    "for all vectors $(x,y)$, unlike `atan(y/x)` which requires corrections for angles in the range $[\\frac{\\pi}{2}, \\frac{3\\pi}{2}]$.) to find its direction:"
   ]
  },
  {
   "cell_type": "code",
   "execution_count": 4,
   "metadata": {
    "collapsed": false,
    "jupyter": {
     "outputs_hidden": false
    }
   },
   "outputs": [
    {
     "data": {
      "text/latex": [
       "$\\displaystyle 8.69718438067042$"
      ],
      "text/plain": [
       "8.69718438067042"
      ]
     },
     "execution_count": 4,
     "metadata": {},
     "output_type": "execute_result"
    }
   ],
   "source": [
    "F_net.norm().evalf()                     # |F_net| in [N]"
   ]
  },
  {
   "cell_type": "code",
   "execution_count": 5,
   "metadata": {
    "collapsed": false,
    "jupyter": {
     "outputs_hidden": false
    }
   },
   "outputs": [
    {
     "data": {
      "text/latex": [
       "$\\displaystyle 16.70531380601$"
      ],
      "text/plain": [
       "16.7053138060100"
      ]
     },
     "execution_count": 5,
     "metadata": {},
     "output_type": "execute_result"
    }
   ],
   "source": [
    "(atan2( F_net[1],F_net[0] )*180/pi).n()  # angle in degrees"
   ]
  },
  {
   "cell_type": "markdown",
   "metadata": {},
   "source": [
    "The net force on the object is $\\vec{F}_{\\textrm{net}}= 8.697\\angle 16.7^\\circ$[N]."
   ]
  },
  {
   "cell_type": "markdown",
   "metadata": {},
   "source": [
    "### Kinematics"
   ]
  },
  {
   "cell_type": "markdown",
   "metadata": {},
   "source": [
    "Let $x(t)$ denote the position of an object,\n",
    "$v(t)$ denote its velocity,\n",
    "and $a(t)$ denote its acceleration.\n",
    "Together $x(t)$, $v(t)$, and $a(t)$ are known as the *equations of motion* of the object.\n",
    "\n",
    "The equations of motion are related by the derivative operation:\n",
    "\n",
    "$$\n",
    "  a(t) \\overset{\\frac{d}{dt} }{\\longleftarrow} v(t) \\overset{\\frac{d}{dt} }{\\longleftarrow} x(t).\n",
    "$$\n",
    "\n",
    "Assume we know the initial position $x_i\\equiv x(0)$ and the initial velocity $v_i\\equiv v(0)$ of the object \n",
    "and we want to find $x(t)$ for all later times.\n",
    "We can do this starting from the dynamics of the problem&mdash;the forces acting on the object.\n",
    "\n",
    "Newton's second law $\\vec{F}_{\\textrm{net}} = m\\vec{a}$ states that a net force $\\vec{F}_{\\textrm{net}}$\n",
    "applied on an object of mass $m$ produces acceleration $\\vec{a}$.\n",
    "Thus, we can obtain an objects acceleration if we know the net force acting on it.\n",
    "\n",
    "Starting from the knowledge of $a(t)$, we can obtain $v(t)$ by integrating\n",
    "then find $x(t)$ by integrating $v(t)$:\n",
    "\n",
    "$$\n",
    "a(t) \\ \\ \\ \\overset{v_i+ \\int\\!dt }{\\longrightarrow} \\ \\ \\ v(t) \\ \\ \\ \\overset{x_i+ \\int\\!dt }{\\longrightarrow} \\ \\ \\ x(t).\n",
    "$$\n",
    "\n",
    "The reasoning follows from the fundamental theorem of calculus:\n",
    "if $a(t)$ represents the change in $v(t)$, \n",
    "then the total of $a(t)$ accumulated between $t=t_1$ and $t=t_2$\n",
    "is equal to the total change in $v(t)$ between these times: $\\Delta v = v(t_2) - v(t_1)$.\n",
    "Similarly, the integral of $v(t)$ from $t=0$ until $t=\\tau$ is equal to $x(\\tau) - x(0)$."
   ]
  },
  {
   "cell_type": "markdown",
   "metadata": {},
   "source": [
    "### Uniform acceleration motion (UAM)"
   ]
  },
  {
   "cell_type": "markdown",
   "metadata": {},
   "source": [
    "Let's analyze the case where the net force on the object is constant.\n",
    "A constant force causes a constant acceleration $a = \\frac{F}{m} = \\textrm{constant}$.\n",
    "If the acceleration function is constant over time $a(t)=a$.\n",
    "We find $v(t)$ and $x(t)$ as follows:"
   ]
  },
  {
   "cell_type": "code",
   "execution_count": 6,
   "metadata": {
    "collapsed": false,
    "jupyter": {
     "outputs_hidden": false
    }
   },
   "outputs": [
    {
     "data": {
      "text/latex": [
       "$\\displaystyle a t + v_{i}$"
      ],
      "text/plain": [
       "a*t + v_i"
      ]
     },
     "execution_count": 6,
     "metadata": {},
     "output_type": "execute_result"
    }
   ],
   "source": [
    "t, a, v_i, x_i = symbols('t a v_i x_i')\n",
    "v = v_i + integrate(a, (t, 0,t) )\n",
    "v"
   ]
  },
  {
   "cell_type": "code",
   "execution_count": 7,
   "metadata": {
    "collapsed": false,
    "jupyter": {
     "outputs_hidden": false
    }
   },
   "outputs": [
    {
     "data": {
      "text/latex": [
       "$\\displaystyle \\frac{a t^{2}}{2} + t v_{i} + x_{i}$"
      ],
      "text/plain": [
       "a*t**2/2 + t*v_i + x_i"
      ]
     },
     "execution_count": 7,
     "metadata": {},
     "output_type": "execute_result"
    }
   ],
   "source": [
    "x = x_i + integrate(v, (t, 0,t) )\n",
    "x"
   ]
  },
  {
   "cell_type": "markdown",
   "metadata": {},
   "source": [
    "You may remember these equations from your high school physics class.\n",
    "They are the *uniform accelerated motion* (UAM) equations:\n",
    "\n",
    "\\begin{align*}\n",
    " a(t) &= a,                                  \\\\ \n",
    " v(t) &= v_i  + at,                          \\\\[-2mm] \n",
    " x(t) &= x_i + v_it + \\frac{1}{2}at^2.\n",
    "\\end{align*}\n",
    "\n",
    "In high school, you probably had to memorize these equations.\n",
    "Now you know how to derive them yourself starting from first principles.\n",
    "\n",
    "For the sake of completeness, we'll now derive the fourth UAM equation,\n",
    "which relates the object's final velocity to the initial velocity,\n",
    "the displacement, and the acceleration, without reference to time:"
   ]
  },
  {
   "cell_type": "code",
   "execution_count": 8,
   "metadata": {
    "collapsed": false,
    "jupyter": {
     "outputs_hidden": false
    }
   },
   "outputs": [
    {
     "data": {
      "text/latex": [
       "$\\displaystyle a^{2} t^{2} + 2 a t v_{i} + v_{i}^{2}$"
      ],
      "text/plain": [
       "a**2*t**2 + 2*a*t*v_i + v_i**2"
      ]
     },
     "execution_count": 8,
     "metadata": {},
     "output_type": "execute_result"
    }
   ],
   "source": [
    "(v*v).expand()"
   ]
  },
  {
   "cell_type": "code",
   "execution_count": 9,
   "metadata": {
    "collapsed": false,
    "jupyter": {
     "outputs_hidden": false
    }
   },
   "outputs": [
    {
     "data": {
      "text/latex": [
       "$\\displaystyle - 2 a x_{i} + v_{i}^{2}$"
      ],
      "text/plain": [
       "-2*a*x_i + v_i**2"
      ]
     },
     "execution_count": 9,
     "metadata": {},
     "output_type": "execute_result"
    }
   ],
   "source": [
    "((v*v).expand() - 2*a*x).simplify()"
   ]
  },
  {
   "cell_type": "markdown",
   "metadata": {},
   "source": [
    "The above calculation shows $v_f^2 - 2ax_f = -2ax_i + v_i^2$.\n",
    "After moving the term $2ax_f$ to the other side of the equation, we obtain\n",
    "\n",
    "\\begin{align*}\n",
    " (v(t))^2 \\ = \\ v_f^2 =  v_i^2  + 2a\\Delta x \\ = \\  v_i^2  + 2a(x_f-x_i).\n",
    "\\end{align*}\n",
    "\n",
    "The fourth equation is important for practical purposes\n",
    "because it allows us to solve physics problems in a time-less manner."
   ]
  },
  {
   "cell_type": "markdown",
   "metadata": {},
   "source": [
    "#### Example"
   ]
  },
  {
   "cell_type": "markdown",
   "metadata": {},
   "source": [
    "Find the position function of an object at time $t=3[\\mathrm{s}]$, \n",
    "if it starts from $x_i=20[\\mathrm{m}]$ with $v_i=10[\\mathrm{m/s}]$ and undergoes \n",
    "a constant acceleration of $a=5[\\mathrm{m/s^2}]$.\n",
    "What is the object's velocity at $t=3[\\mathrm{s}]$?"
   ]
  },
  {
   "cell_type": "code",
   "execution_count": 10,
   "metadata": {
    "collapsed": false,
    "jupyter": {
     "outputs_hidden": false
    }
   },
   "outputs": [
    {
     "data": {
      "text/latex": [
       "$\\displaystyle \\frac{5 t^{2}}{2} + 10 t + 20$"
      ],
      "text/plain": [
       "5*t**2/2 + 10*t + 20"
      ]
     },
     "execution_count": 10,
     "metadata": {},
     "output_type": "execute_result"
    }
   ],
   "source": [
    "x_i = 20  # initial position\n",
    "v_i = 10  # initial velocity\n",
    "a   = 5   # acceleration (constant during motion)\n",
    "x = x_i + integrate( v_i+integrate(a,(t,0,t)), (t,0,t) )   \n",
    "x"
   ]
  },
  {
   "cell_type": "code",
   "execution_count": 11,
   "metadata": {
    "collapsed": false,
    "jupyter": {
     "outputs_hidden": false
    }
   },
   "outputs": [
    {
     "data": {
      "text/latex": [
       "$\\displaystyle 72.5$"
      ],
      "text/plain": [
       "72.5000000000000"
      ]
     },
     "execution_count": 11,
     "metadata": {},
     "output_type": "execute_result"
    }
   ],
   "source": [
    "x.subs({t:3}).n()          # x(3) in [m]"
   ]
  },
  {
   "cell_type": "code",
   "execution_count": 12,
   "metadata": {
    "collapsed": false,
    "jupyter": {
     "outputs_hidden": false
    }
   },
   "outputs": [
    {
     "data": {
      "text/latex": [
       "$\\displaystyle 25.0$"
      ],
      "text/plain": [
       "25.0000000000000"
      ]
     },
     "execution_count": 12,
     "metadata": {},
     "output_type": "execute_result"
    }
   ],
   "source": [
    "diff(x,t).subs({t:3}).n()  # v(3) in [m/s]"
   ]
  },
  {
   "cell_type": "markdown",
   "metadata": {},
   "source": [
    "If you think about it,\n",
    "physics knowledge combined with computer skills is like a superpower!"
   ]
  },
  {
   "cell_type": "markdown",
   "metadata": {},
   "source": [
    "### General equations of motion"
   ]
  },
  {
   "cell_type": "markdown",
   "metadata": {},
   "source": [
    "The procedure \n",
    "$a(t) \\ \\overset{v_i+ \\int\\!dt }{\\longrightarrow} \\ v(t) \\ \\overset{x_i+ \\int\\!dt }{\\longrightarrow} \\ x(t)$\n",
    "can be used to obtain the position function $x(t)$ even when the acceleration is not constant.\n",
    "Suppose the acceleration of an object is $a(t)=\\sqrt{k t}$; \n",
    "what is its $x(t)$?"
   ]
  },
  {
   "cell_type": "code",
   "execution_count": 13,
   "metadata": {
    "collapsed": false,
    "jupyter": {
     "outputs_hidden": false
    }
   },
   "outputs": [
    {
     "data": {
      "text/latex": [
       "$\\displaystyle t v_{i} + x_{i} + \\frac{4 \\left(k t\\right)^{\\frac{5}{2}}}{15 k^{2}}$"
      ],
      "text/plain": [
       "t*v_i + x_i + 4*(k*t)**(5/2)/(15*k**2)"
      ]
     },
     "execution_count": 13,
     "metadata": {},
     "output_type": "execute_result"
    }
   ],
   "source": [
    "t, v_i, x_i, k = symbols('t v_i x_i k')\n",
    "a = sqrt(k*t)\n",
    "x = x_i + integrate( v_i+integrate(a,(t,0,t)), (t, 0,t) )\n",
    "x"
   ]
  },
  {
   "cell_type": "markdown",
   "metadata": {},
   "source": [
    "### Potential energy"
   ]
  },
  {
   "cell_type": "markdown",
   "metadata": {},
   "source": [
    "Instead of working with the kinematic equations of motion $x(t)$, $v(t)$, and $a(t)$ which depend on time,\n",
    "we can solve physics problems using *energy* calculations.\n",
    "A key connection between the world of forces and the world of energy is the concept of *potential energy*.\n",
    "If you move an object against a conservative force (think raising a ball in the air against the force of gravity),\n",
    "you can think of the work you do agains the force as being stored in the potential energy of the object.\n",
    "\n",
    "For each force $\\vec{F}(x)$ there is a corresponding potential energy $U_F(x)$.\n",
    "The change in potential energy associated with the force $\\vec{F}(x)$ and displacement $\\vec{d}$\n",
    "is defined as the negative of the work done by the force during the displacement: $U_F(x) = - W = - \\int_{\\vec{d}} \\vec{F}(x)\\cdot d\\vec{x}$.\n",
    "\n",
    "The potential energies associated with gravity $\\vec{F}_g = -mg\\hat{\\jmath}$\n",
    "and the force of a spring $\\vec{F}_s = -k\\vec{x}$ are calculated as follows:"
   ]
  },
  {
   "cell_type": "code",
   "execution_count": 14,
   "metadata": {
    "collapsed": false,
    "jupyter": {
     "outputs_hidden": false
    }
   },
   "outputs": [
    {
     "data": {
      "text/latex": [
       "$\\displaystyle g h m$"
      ],
      "text/plain": [
       "g*h*m"
      ]
     },
     "execution_count": 14,
     "metadata": {},
     "output_type": "execute_result"
    }
   ],
   "source": [
    "x, y = symbols('x y')\n",
    "m, g, k, h = symbols('m g k h')\n",
    "F_g = -m*g  # Force of gravity on mass m \n",
    "U_g = - integrate( F_g, (y,0,h) )\n",
    "U_g         # Grav. potential energy"
   ]
  },
  {
   "cell_type": "code",
   "execution_count": 15,
   "metadata": {
    "collapsed": false,
    "jupyter": {
     "outputs_hidden": false
    }
   },
   "outputs": [
    {
     "data": {
      "text/latex": [
       "$\\displaystyle \\frac{k x^{2}}{2}$"
      ],
      "text/plain": [
       "k*x**2/2"
      ]
     },
     "execution_count": 15,
     "metadata": {},
     "output_type": "execute_result"
    }
   ],
   "source": [
    "F_s = -k*x  # Spring force for displacement x \n",
    "U_s = - integrate( F_s, (x,0,x) )\n",
    "U_s         # Spring potential energy"
   ]
  },
  {
   "cell_type": "markdown",
   "metadata": {},
   "source": [
    "Note the negative sign in the formula defining the potential energy.\n",
    "This negative is canceled by the negative sign of the dot product $\\vec{F}\\cdot d\\vec{x}$:\n",
    "when the force acts in the direction opposite to the displacement, \n",
    "the work done by the force is negative."
   ]
  },
  {
   "cell_type": "markdown",
   "metadata": {},
   "source": [
    "### Simple harmonic motion"
   ]
  },
  {
   "cell_type": "markdown",
   "metadata": {},
   "source": [
    "The force exerted by a spring is given by the formula $F=-kx$.\n",
    "If the only force acting on a mass $m$ is the force of a spring,\n",
    "we can use Newton's second law to obtain the following equation:\n",
    "\n",
    "$$\n",
    "  F=ma  \n",
    "  \\quad \\Rightarrow \\quad\n",
    "  -kx = ma   \n",
    "  \\quad \\Rightarrow \\quad\n",
    "  -kx(t) = m\\frac{d^2}{dt^2}\\Big[x(t)\\Big].\n",
    "$$\n",
    "\n",
    "The motion of a mass-spring system is described by the *differential equation* $\\frac{d^2}{dt^2}x(t) + \\omega^2 x(t)=0$,\n",
    "where the constant $\\omega = \\sqrt{\\frac{k}{m}}$ is called the angular frequency.\n",
    "We can find the position function $x(t)$ using the `dsolve` method:"
   ]
  },
  {
   "cell_type": "code",
   "execution_count": 16,
   "metadata": {
    "collapsed": false,
    "jupyter": {
     "outputs_hidden": false
    }
   },
   "outputs": [
    {
     "data": {
      "text/latex": [
       "$\\displaystyle x{\\left(t \\right)} = C_{1} \\sin{\\left(t w \\right)} + C_{2} \\cos{\\left(t w \\right)}$"
      ],
      "text/plain": [
       "Eq(x(t), C1*sin(t*w) + C2*cos(t*w))"
      ]
     },
     "execution_count": 16,
     "metadata": {},
     "output_type": "execute_result"
    }
   ],
   "source": [
    "t = Symbol('t')                 # time t\n",
    "x = Function('x')               # position function x(t)\n",
    "w = Symbol('w', positive=True)  # angular frequency w\n",
    "sol = dsolve( diff(x(t),t,t) + w**2*x(t), x(t) )\n",
    "sol"
   ]
  },
  {
   "cell_type": "code",
   "execution_count": 17,
   "metadata": {
    "collapsed": false,
    "jupyter": {
     "outputs_hidden": false
    }
   },
   "outputs": [
    {
     "data": {
      "text/latex": [
       "$\\displaystyle C_{1} \\sin{\\left(t w \\right)} + C_{2} \\cos{\\left(t w \\right)}$"
      ],
      "text/plain": [
       "C1*sin(t*w) + C2*cos(t*w)"
      ]
     },
     "execution_count": 17,
     "metadata": {},
     "output_type": "execute_result"
    }
   ],
   "source": [
    "x = sol.rhs           \n",
    "x"
   ]
  },
  {
   "cell_type": "markdown",
   "metadata": {},
   "source": [
    "Note the solution $x(t)=C_1\\sin(\\omega t)+C_2 \\cos(\\omega t)$ is equivalent to $x(t) = A\\cos(\\omega t + \\phi)$, \n",
    "which is more commonly used to describe simple harmonic motion. \n",
    "We can use the `expand` function with the argument `trig=True` to convince ourselves of this equivalence:"
   ]
  },
  {
   "cell_type": "code",
   "execution_count": 18,
   "metadata": {
    "collapsed": false,
    "jupyter": {
     "outputs_hidden": false
    }
   },
   "outputs": [
    {
     "data": {
      "text/latex": [
       "$\\displaystyle A \\sin{\\left(\\phi \\right)} \\sin{\\left(t w \\right)} + A \\cos{\\left(\\phi \\right)} \\cos{\\left(t w \\right)}$"
      ],
      "text/plain": [
       "A*sin(phi)*sin(t*w) + A*cos(phi)*cos(t*w)"
      ]
     },
     "execution_count": 18,
     "metadata": {},
     "output_type": "execute_result"
    }
   ],
   "source": [
    "A, phi = symbols(\"A phi\")\n",
    "(A*cos(w*t - phi)).expand(trig=True)"
   ]
  },
  {
   "cell_type": "markdown",
   "metadata": {},
   "source": [
    "If we define $C_1=A\\sin(\\phi)$ and $C_2=A\\cos(\\phi)$, \n",
    "we obtain the form $x(t)=C_1\\sin(\\omega t)+C_2 \\cos(\\omega t)$ that `SymPy` found."
   ]
  },
  {
   "cell_type": "markdown",
   "metadata": {},
   "source": [
    "### Conservation of energy"
   ]
  },
  {
   "cell_type": "markdown",
   "metadata": {},
   "source": [
    "We can verify that the total energy of the mass-spring system is conserved by showing \n",
    "$E_T(t) = U_s(t) + K(t) = \\textrm{constant}$:"
   ]
  },
  {
   "cell_type": "code",
   "execution_count": 19,
   "metadata": {
    "collapsed": false,
    "jupyter": {
     "outputs_hidden": false
    }
   },
   "outputs": [
    {
     "data": {
      "text/latex": [
       "$\\displaystyle A \\cos{\\left(t w \\right)}$"
      ],
      "text/plain": [
       "A*cos(t*w)"
      ]
     },
     "execution_count": 19,
     "metadata": {},
     "output_type": "execute_result"
    }
   ],
   "source": [
    "x = sol.rhs.subs({\"C1\":0,\"C2\":A}) \n",
    "x"
   ]
  },
  {
   "cell_type": "code",
   "execution_count": 20,
   "metadata": {
    "collapsed": false,
    "jupyter": {
     "outputs_hidden": false
    }
   },
   "outputs": [
    {
     "data": {
      "text/latex": [
       "$\\displaystyle - A w \\sin{\\left(t w \\right)}$"
      ],
      "text/plain": [
       "-A*w*sin(t*w)"
      ]
     },
     "execution_count": 20,
     "metadata": {},
     "output_type": "execute_result"
    }
   ],
   "source": [
    "v = diff(x, t)\n",
    "v"
   ]
  },
  {
   "cell_type": "code",
   "execution_count": 21,
   "metadata": {
    "collapsed": false,
    "jupyter": {
     "outputs_hidden": false
    }
   },
   "outputs": [
    {
     "data": {
      "text/latex": [
       "$\\displaystyle 0.5 A^{2} \\left(k \\cos^{2}{\\left(t w \\right)} + m w^{2} \\sin^{2}{\\left(t w \\right)}\\right)$"
      ],
      "text/plain": [
       "0.5*A**2*(k*cos(t*w)**2 + m*w**2*sin(t*w)**2)"
      ]
     },
     "execution_count": 21,
     "metadata": {},
     "output_type": "execute_result"
    }
   ],
   "source": [
    "E_T = (0.5*k*x**2 + 0.5*m*v**2).simplify()\n",
    "E_T"
   ]
  },
  {
   "cell_type": "code",
   "execution_count": 22,
   "metadata": {
    "collapsed": false,
    "jupyter": {
     "outputs_hidden": false
    }
   },
   "outputs": [
    {
     "data": {
      "text/latex": [
       "$\\displaystyle 0.5 A^{2} m w^{2}$"
      ],
      "text/plain": [
       "0.5*A**2*m*w**2"
      ]
     },
     "execution_count": 22,
     "metadata": {},
     "output_type": "execute_result"
    }
   ],
   "source": [
    "E_T.subs({k:m*w**2}).simplify()     # = K_max"
   ]
  },
  {
   "cell_type": "code",
   "execution_count": 23,
   "metadata": {
    "collapsed": false,
    "jupyter": {
     "outputs_hidden": false
    }
   },
   "outputs": [
    {
     "data": {
      "text/latex": [
       "$\\displaystyle 0.5 A^{2} k$"
      ],
      "text/plain": [
       "0.5*A**2*k"
      ]
     },
     "execution_count": 23,
     "metadata": {},
     "output_type": "execute_result"
    }
   ],
   "source": [
    "E_T.subs({w:sqrt(k/m)}).simplify()  # = U_max"
   ]
  }
 ],
 "metadata": {
  "kernelspec": {
   "display_name": "Python 3 (ipykernel)",
   "language": "python",
   "name": "python3"
  },
  "language_info": {
   "codemirror_mode": {
    "name": "ipython",
    "version": 3
   },
   "file_extension": ".py",
   "mimetype": "text/x-python",
   "name": "python",
   "nbconvert_exporter": "python",
   "pygments_lexer": "ipython3",
   "version": "3.9.4"
  }
 },
 "nbformat": 4,
 "nbformat_minor": 4
}
